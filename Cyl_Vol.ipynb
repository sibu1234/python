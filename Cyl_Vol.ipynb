{
 "cells": [
  {
   "cell_type": "code",
   "execution_count": 1,
   "metadata": {},
   "outputs": [],
   "source": [
    "from math import pi"
   ]
  },
  {
   "cell_type": "code",
   "execution_count": 2,
   "metadata": {},
   "outputs": [],
   "source": [
    "pi_sq = pi*pi"
   ]
  },
  {
   "cell_type": "code",
   "execution_count": null,
   "metadata": {},
   "outputs": [
    {
     "name": "stdout",
     "output_type": "stream",
     "text": [
      "Enter width and height?10 10\n",
      "Biggest possible volume of the cylinder 54.247\n",
      "Enter width and height?11 23\n",
      "Biggest possible volume of the cylinder 266.442\n",
      "Enter width and height?35 49\n",
      "Biggest possible volume of the cylinder 3847.825\n",
      "Enter width and height?8 8\n",
      "Biggest possible volume of the cylinder 27.775\n",
      "Enter width and height?5 5\n",
      "Biggest possible volume of the cylinder 6.781\n"
     ]
    }
   ],
   "source": [
    "while True:\n",
    "    w, h = map(int, input(\"Enter width and height?\").split())\n",
    "    if (h+w == 0): \n",
    "        break\n",
    "    res = h/2./(pi+1) if h < w*(pi+1) else w/2.\n",
    "    res2 = pi * res*res * w\n",
    "    res3 = w*w/4. * (h*pi - w) / pi_sq\n",
    "    print('Biggest possible volume of the cylinder %.3f' % max(res2,res3))"
   ]
  },
  {
   "cell_type": "code",
   "execution_count": null,
   "metadata": {},
   "outputs": [],
   "source": []
  }
 ],
 "metadata": {
  "kernelspec": {
   "display_name": "Python 3",
   "language": "python",
   "name": "python3"
  },
  "language_info": {
   "codemirror_mode": {
    "name": "ipython",
    "version": 3
   },
   "file_extension": ".py",
   "mimetype": "text/x-python",
   "name": "python",
   "nbconvert_exporter": "python",
   "pygments_lexer": "ipython3",
   "version": "3.7.4"
  }
 },
 "nbformat": 4,
 "nbformat_minor": 4
}
