{
 "cells": [
  {
   "cell_type": "code",
   "execution_count": 21,
   "metadata": {},
   "outputs": [],
   "source": [
    "import os\n",
    "os.chdir(\"E:\\\\afitech\\\\Afitech PPML Datasets\")\n",
    "import xml.etree.ElementTree as ET"
   ]
  },
  {
   "cell_type": "markdown",
   "metadata": {},
   "source": [
    "# Parsing XML data"
   ]
  },
  {
   "cell_type": "code",
   "execution_count": 22,
   "metadata": {},
   "outputs": [
    {
     "data": {
      "text/plain": [
       "<xml.etree.ElementTree.ElementTree at 0x2272e28a08>"
      ]
     },
     "execution_count": 22,
     "metadata": {},
     "output_type": "execute_result"
    }
   ],
   "source": [
    "tree=ET.parse('bcs.xml')\n",
    "tree"
   ]
  },
  {
   "cell_type": "code",
   "execution_count": 23,
   "metadata": {},
   "outputs": [
    {
     "data": {
      "text/plain": [
       "<Element 'BusinessCards' at 0x0000002272C094A8>"
      ]
     },
     "execution_count": 23,
     "metadata": {},
     "output_type": "execute_result"
    }
   ],
   "source": [
    "root=tree.getroot()\n",
    "root"
   ]
  },
  {
   "cell_type": "code",
   "execution_count": 24,
   "metadata": {},
   "outputs": [
    {
     "data": {
      "text/plain": [
       "'BusinessCards'"
      ]
     },
     "execution_count": 24,
     "metadata": {},
     "output_type": "execute_result"
    }
   ],
   "source": [
    "root.tag"
   ]
  },
  {
   "cell_type": "code",
   "execution_count": 25,
   "metadata": {},
   "outputs": [
    {
     "data": {
      "text/plain": [
       "{}"
      ]
     },
     "execution_count": 25,
     "metadata": {},
     "output_type": "execute_result"
    }
   ],
   "source": [
    "root.attrib"
   ]
  },
  {
   "cell_type": "code",
   "execution_count": 26,
   "metadata": {},
   "outputs": [
    {
     "name": "stdout",
     "output_type": "stream",
     "text": [
      "BusinessCard {}\n",
      "BusinessCard {}\n"
     ]
    }
   ],
   "source": [
    "for child in root:\n",
    "    print(child.tag,child.attrib)"
   ]
  },
  {
   "cell_type": "code",
   "execution_count": 27,
   "metadata": {},
   "outputs": [
    {
     "data": {
      "text/plain": [
       "['BusinessCards',\n",
       " 'BusinessCard',\n",
       " 'Name',\n",
       " 'phone',\n",
       " 'phone',\n",
       " 'phone',\n",
       " 'email',\n",
       " 'BusinessCard',\n",
       " 'Name',\n",
       " 'phone',\n",
       " 'phone',\n",
       " 'phone',\n",
       " 'email']"
      ]
     },
     "execution_count": 27,
     "metadata": {},
     "output_type": "execute_result"
    }
   ],
   "source": [
    "m=[x.tag for x in root.iter()]\n",
    "m"
   ]
  },
  {
   "cell_type": "code",
   "execution_count": 28,
   "metadata": {},
   "outputs": [
    {
     "data": {
      "text/plain": [
       "13"
      ]
     },
     "execution_count": 28,
     "metadata": {},
     "output_type": "execute_result"
    }
   ],
   "source": [
    "len(m)"
   ]
  },
  {
   "cell_type": "code",
   "execution_count": 29,
   "metadata": {},
   "outputs": [
    {
     "name": "stdout",
     "output_type": "stream",
     "text": [
      "<?xml version='1.0' encoding='utf8'?>\n",
      "<BusinessCards>\n",
      "   <BusinessCard>\n",
      "      <Name>Joe Marini</Name>\n",
      "      <phone type=\"mobile\">(415) 555-4567</phone>\n",
      "      <phone type=\"work\">(800) 555-9876</phone>\n",
      "      <phone type=\"fax\">(510) 555-1234</phone>\n",
      "      <email>joe@joe.com</email>\n",
      "   </BusinessCard>\n",
      "\n",
      "   <BusinessCard>\n",
      "      <Name>Someone Else</Name>\n",
      "      <phone type=\"mobile\">(415) 555-0000</phone>\n",
      "      <phone primary=\"primary\" type=\"work\">(800) 555-1111</phone>\n",
      "      <phone type=\"fax\">(510) 555-2222</phone>\n",
      "      <email>someone@else.com</email>\n",
      "   </BusinessCard>\n",
      "</BusinessCards>\n"
     ]
    }
   ],
   "source": [
    "print(ET.tostring(root,encoding='utf8').decode(\"utf8\"))"
   ]
  },
  {
   "cell_type": "code",
   "execution_count": 30,
   "metadata": {},
   "outputs": [
    {
     "name": "stdout",
     "output_type": "stream",
     "text": [
      "{'type': 'mobile'}\n",
      "{'type': 'work'}\n",
      "{'type': 'fax'}\n",
      "{'type': 'mobile'}\n",
      "{'type': 'work', 'primary': 'primary'}\n",
      "{'type': 'fax'}\n"
     ]
    }
   ],
   "source": [
    "for phone in root.iter(\"phone\"):\n",
    "    print(phone.attrib)"
   ]
  },
  {
   "cell_type": "code",
   "execution_count": 32,
   "metadata": {},
   "outputs": [
    {
     "name": "stdout",
     "output_type": "stream",
     "text": [
      "joe@joe.com\n",
      "someone@else.com\n"
     ]
    }
   ],
   "source": [
    "for email in root.iter(\"email\"):\n",
    "    print(email.text)"
   ]
  },
  {
   "cell_type": "code",
   "execution_count": null,
   "metadata": {},
   "outputs": [],
   "source": []
  }
 ],
 "metadata": {
  "kernelspec": {
   "display_name": "Python 3",
   "language": "python",
   "name": "python3"
  },
  "language_info": {
   "codemirror_mode": {
    "name": "ipython",
    "version": 3
   },
   "file_extension": ".py",
   "mimetype": "text/x-python",
   "name": "python",
   "nbconvert_exporter": "python",
   "pygments_lexer": "ipython3",
   "version": "3.7.4"
  }
 },
 "nbformat": 4,
 "nbformat_minor": 2
}
