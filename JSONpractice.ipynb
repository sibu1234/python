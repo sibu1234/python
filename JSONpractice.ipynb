{
 "cells": [
  {
   "cell_type": "code",
   "execution_count": 4,
   "metadata": {},
   "outputs": [
    {
     "name": "stdout",
     "output_type": "stream",
     "text": [
      "{\"Name\": \"Luke\", \"age\": 28, \"salary\": 37000}\n",
      "<class 'str'>\n"
     ]
    }
   ],
   "source": [
    "import json\n",
    "a={\"Name\":\"Luke\",\n",
    "  \"age\":28,\n",
    "  \"salary\":37000}\n",
    "b=json.dumps(a)\n",
    "print(b)\n",
    "print(type(b))"
   ]
  },
  {
   "cell_type": "code",
   "execution_count": 7,
   "metadata": {},
   "outputs": [
    {
     "name": "stdout",
     "output_type": "stream",
     "text": [
      "[\"welcome\", \"to\", \"banglore\"]\n",
      "[\"python\", \"is\", \"best\", \"language\"]\n",
      "\"Hello Bhubaneswar\"\n",
      "1437\n",
      "27.16\n",
      "true\n",
      "false\n",
      "null\n",
      "{\"welcome\": 1, \"to\": 2, \"Bhubaneswar\": 5}\n"
     ]
    }
   ],
   "source": [
    "import json\n",
    "print(json.dumps([\"welcome\",\"to\",\"banglore\"]))\n",
    "print(json.dumps((\"python\",\"is\",\"best\",\"language\")))\n",
    "print(json.dumps(\"Hello Bhubaneswar\"))\n",
    "print(json.dumps(1437))\n",
    "print(json.dumps(27.16))\n",
    "print(json.dumps(True))\n",
    "print(json.dumps(False))\n",
    "print(json.dumps(None))\n",
    "print(json.dumps({\"welcome\":1,\"to\":2,\"Bhubaneswar\":5}))"
   ]
  },
  {
   "cell_type": "code",
   "execution_count": null,
   "metadata": {},
   "outputs": [],
   "source": []
  }
 ],
 "metadata": {
  "kernelspec": {
   "display_name": "Python 3",
   "language": "python",
   "name": "python3"
  },
  "language_info": {
   "codemirror_mode": {
    "name": "ipython",
    "version": 3
   },
   "file_extension": ".py",
   "mimetype": "text/x-python",
   "name": "python",
   "nbconvert_exporter": "python",
   "pygments_lexer": "ipython3",
   "version": "3.7.4"
  }
 },
 "nbformat": 4,
 "nbformat_minor": 2
}
