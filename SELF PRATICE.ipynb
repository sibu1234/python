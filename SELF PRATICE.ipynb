{
 "cells": [
  {
   "cell_type": "code",
   "execution_count": 1,
   "metadata": {},
   "outputs": [
    {
     "name": "stdout",
     "output_type": "stream",
     "text": [
      "[35, 52, 63, 14, 47, 49, 61, 78]\n"
     ]
    }
   ],
   "source": [
    "#swaping 2 elements in a list\n",
    "def swaplist(list):\n",
    "    start,*middle,end=list\n",
    "    list=[end,*middle,start]\n",
    "    return list\n",
    "newlist=[78,52,63,14,47,49,61,35]\n",
    "print(swaplist(newlist))"
   ]
  },
  {
   "cell_type": "code",
   "execution_count": 2,
   "metadata": {},
   "outputs": [
    {
     "name": "stdout",
     "output_type": "stream",
     "text": [
      "sum of all elements in a list: 394\n"
     ]
    }
   ],
   "source": [
    "#sum of all elements in a list\n",
    "total=0\n",
    "list1=[5,24,36,48,76,91,41,73]\n",
    "for ele in range(0,len(list1)):\n",
    "    total=total+list1[ele]\n",
    "    \n",
    "print(\"sum of all elements in a list:\",total)"
   ]
  },
  {
   "cell_type": "code",
   "execution_count": 3,
   "metadata": {},
   "outputs": [
    {
     "name": "stdout",
     "output_type": "stream",
     "text": [
      "sum of all elements in a list: 394\n"
     ]
    }
   ],
   "source": [
    "list1=[5,24,36,48,76,91,41,73]\n",
    "total=sum(list1)\n",
    "print(\"sum of all elements in a list:\",total)"
   ]
  },
  {
   "cell_type": "code",
   "execution_count": 4,
   "metadata": {},
   "outputs": [
    {
     "name": "stdout",
     "output_type": "stream",
     "text": [
      "[13, 19, 23, 31]\n"
     ]
    }
   ],
   "source": [
    "#find eements of a list by indices\n",
    "def findelements(lis1,list2):\n",
    "    return [list1[i] for i in list2]\n",
    "list1=[11,13,17,19,21,23,29,31]\n",
    "list2=[1,3,5,7]\n",
    "print(findelements(list1,list2))"
   ]
  },
  {
   "cell_type": "code",
   "execution_count": 5,
   "metadata": {},
   "outputs": [
    {
     "name": "stdout",
     "output_type": "stream",
     "text": [
      "origonal list is:[3, 5, 7, 9, 11]\n",
      "missing elements in list are:[0, 1, 2, 4, 6, 8, 10]\n"
     ]
    }
   ],
   "source": [
    "#missing lists\n",
    "test_list=[3,5,7,9,11]\n",
    "print(\"origonal list is:\" +str(test_list))\n",
    "res=[ele for ele in range(max(test_list)+1) if ele not in test_list]\n",
    "print(\"missing elements in list are:\" +str(res))"
   ]
  },
  {
   "cell_type": "code",
   "execution_count": 6,
   "metadata": {},
   "outputs": [
    {
     "name": "stdout",
     "output_type": "stream",
     "text": [
      "the original list is:([75, 45, 36, 69], [75, 36, 85, 45], [21, 32, 75, 63, 36])\n",
      "the common element are:[75, 36]\n"
     ]
    }
   ],
   "source": [
    "#common elements in list of lists\n",
    "my_list=[75,45,36,69],[75,36,85,45],[21,32,75,63,36]\n",
    "print(\"the original list is:\" +str(my_list))\n",
    "res=list(set.intersection(*map(set, my_list)))\n",
    "print(\"the common element are:\" +str(res))"
   ]
  },
  {
   "cell_type": "code",
   "execution_count": 7,
   "metadata": {},
   "outputs": [
    {
     "name": "stdout",
     "output_type": "stream",
     "text": [
      "the original list is:[[4, 5, 6], [1, 2, 3], [7, 8, 9]]\n",
      "the lists after column shift are:[[5, 6], [4], [2, 3], [1], [8, 9], [7]]\n"
     ]
    }
   ],
   "source": [
    "#convert column to separate elements in lists of lists\n",
    "my_list=[[4,5,6],\n",
    "        [1,2,3],\n",
    "        [7,8,9]]\n",
    "print(\"the original list is:\" +str(my_list))\n",
    "res=[i for my_list in [[j[1 : ],[j[0]]]\n",
    "       for j in my_list] for i in my_list]\n",
    "print(\"the lists after column shift are:\" +str(res))"
   ]
  },
  {
   "cell_type": "code",
   "execution_count": 8,
   "metadata": {},
   "outputs": [
    {
     "name": "stdout",
     "output_type": "stream",
     "text": [
      "{'A': {}, 'B': {}, 'C': {}, 'D': {}}\n"
     ]
    }
   ],
   "source": [
    "#convert list of list into tree like strucure\n",
    "def formTree(list):\n",
    "    tree={}\n",
    "    for item in list:\n",
    "        currTree=tree\n",
    "        \n",
    "        for key in item[::-1]:\n",
    "            if key not in currTree:\n",
    "                currTree[key]={}\n",
    "                currTree=currTree[key]\n",
    "            \n",
    "    return tree\n",
    "lst=[['A'],['B','A'],['C','A'],['D','C','A']]\n",
    "\n",
    "print(formTree(lst))"
   ]
  },
  {
   "cell_type": "code",
   "execution_count": 9,
   "metadata": {},
   "outputs": [
    {
     "name": "stdout",
     "output_type": "stream",
     "text": [
      "{}\n"
     ]
    }
   ],
   "source": [
    "def formTree(list):\n",
    "    tree={}\n",
    "    for item in list:\n",
    "        currTree=tree\n",
    "        \n",
    "        for key in item[::-1]:\n",
    "            if key not in currTree:\n",
    "                currTree[key]={}\n",
    "                tree=currTree[key]\n",
    "    return tree\n",
    "lst=[[1], [2, 1], [3, 1], [4, 2, 1], [5, 2, 1], [6, 3, 1], [7, 3, 1]]\n",
    "print(formTree(lst))"
   ]
  },
  {
   "cell_type": "code",
   "execution_count": 10,
   "metadata": {},
   "outputs": [
    {
     "name": "stdout",
     "output_type": "stream",
     "text": [
      "the original list is:[[[5, 5], [2, 2]], [[4, 4], [1, 1], [3, 3]]]\n",
      "the modified result is:[[[2, 2], [5, 5]], [[1, 1], [3, 3], [4, 4]]]\n"
     ]
    }
   ],
   "source": [
    "#sorting lists of lists with similsr lists of items\n",
    "my_list=[[[5,5],[2,2]],[[4,4],[1,1],[3,3]]]\n",
    "print(\"the original list is:\" + str(my_list))\n",
    "res=list(map(sorted, my_list))\n",
    "print(\"the modified result is:\" + str(res))"
   ]
  },
  {
   "cell_type": "code",
   "execution_count": 11,
   "metadata": {},
   "outputs": [
    {
     "name": "stdout",
     "output_type": "stream",
     "text": [
      "initial 2 values are\n",
      "['cat', 'dog', 'cow'] \n",
      " ['cat', 'cow', 'dog', 'dog', 'cow', 'cow', 'cow', 'cat', 'dog']\n",
      "2nd list after replacement is: [0, 0, 1, 1, 1, 2, 2, 2, 2]\n"
     ]
    }
   ],
   "source": [
    "input1=[\"cat\",\"dog\",\"cow\"]\n",
    "input2=[\"cat\",\"cow\",\"dog\",\"dog\",\"cow\",\"cow\",\"cow\",\"cat\",\"dog\"]\n",
    "output=[]\n",
    "for x in input1:\n",
    "    for y in input2:\n",
    "        if x == y:\n",
    "            output.append(input1.index(y))\n",
    "print(\"initial 2 values are\")\n",
    "print(input1, \"\\n\" ,input2)\n",
    "print(\"2nd list after replacement is:\", output)"
   ]
  },
  {
   "cell_type": "code",
   "execution_count": 12,
   "metadata": {},
   "outputs": [
    {
     "name": "stdout",
     "output_type": "stream",
     "text": [
      "the filtered list is:[3, 3, 3, 3, 3, 3, 3, 3, 3, 3, 3, 3, 3, 3, 3, 3, 3, 3, 3, 3, 3, 3, 3, 3, 3, 3, 3, 3, 3, 3, 3, 3, 3, 3, 3, 3, 3, 3, 3, 3, 3, 3, 3, 3, 3, 3, 3, 3, 3, 3]\n"
     ]
    }
   ],
   "source": [
    "res= [3]*50\n",
    "print(\"the filtered list is:\" +str(res))"
   ]
  },
  {
   "cell_type": "code",
   "execution_count": 13,
   "metadata": {},
   "outputs": [
    {
     "name": "stdout",
     "output_type": "stream",
     "text": [
      "positive numbers in list: 3\n",
      "negetive numbers in list: 4\n"
     ]
    }
   ],
   "source": [
    "#count positive & negetive numbers in list\n",
    "list1=[-10,13,-15,18,-21,25,-27]\n",
    "pos_count,neg_count=0,0\n",
    "for num in list1:\n",
    "    if num>=0:\n",
    "        pos_count += 1\n",
    "    else:\n",
    "        neg_count +=1\n",
    "print(\"positive numbers in list:\", pos_count)\n",
    "print(\"negetive numbers in list:\", neg_count)"
   ]
  },
  {
   "cell_type": "code",
   "execution_count": 14,
   "metadata": {},
   "outputs": [
    {
     "name": "stdout",
     "output_type": "stream",
     "text": [
      "the origional list is:[-10, 13, -15, 18, -21, 25, -27]\n",
      "result after performing sort operation:[13, 18, 25, -27, -21, -15, -10]\n"
     ]
    }
   ],
   "source": [
    "list1=[-10,13,-15,18,-21,25,-27]\n",
    "print(\"the origional list is:\" +str(list1))\n",
    "res=sorted(list1, key = lambda i: 0 if i==0 else -1 /i)\n",
    "print(\"result after performing sort operation:\" +str(res))"
   ]
  },
  {
   "cell_type": "markdown",
   "metadata": {},
   "source": [
    "# Tuples"
   ]
  },
  {
   "cell_type": "code",
   "execution_count": 15,
   "metadata": {},
   "outputs": [
    {
     "name": "stdout",
     "output_type": "stream",
     "text": [
      "the original tuple is:[7, 5, 6, 2, 8, 9, 11, 13]\n",
      "the tuple after addition is:(12, 11, 8, 10, 17, 20, 24)\n"
     ]
    }
   ],
   "source": [
    "#pair wise addition in tuples\n",
    "my_tupl=[7,5,6,2,8,9,11,13]\n",
    "print(\"the original tuple is:\" +str(my_tupl))\n",
    "res=tuple(i+j for i,j in zip(my_tupl, my_tupl[1:]))\n",
    "print(\"the tuple after addition is:\" +str(res))"
   ]
  },
  {
   "cell_type": "code",
   "execution_count": 16,
   "metadata": {},
   "outputs": [
    {
     "name": "stdout",
     "output_type": "stream",
     "text": [
      "the original tuple1:(2, 4, 6, 8, 10)\n",
      "the original tuple2:(3, 5, 7, 9, 11)\n",
      "is tuple2 greater than tuple1:True\n"
     ]
    }
   ],
   "source": [
    "#compare tuples\n",
    "test_tup1=(2,4,6,8,10)\n",
    "test_tup2=(3,5,7,9,11)\n",
    "print(\"the original tuple1:\" +str(test_tup1))\n",
    "print(\"the original tuple2:\" +str(test_tup2)) \n",
    "res= all(x<y for x,y in zip(test_tup1,test_tup2))\n",
    "print(\"is tuple2 greater than tuple1:\" +str(res))"
   ]
  },
  {
   "cell_type": "code",
   "execution_count": 17,
   "metadata": {},
   "outputs": [
    {
     "name": "stdout",
     "output_type": "stream",
     "text": [
      "the original list is:[\"('python',5)\", \"('is',7)\", \"('best',8)\"]\n",
      "the list after conversion is:[('python', 5), ('is', 7), ('best', 8)]\n"
     ]
    }
   ],
   "source": [
    "#convert string tuples into list tuples\n",
    "test_list=[\"('python',5)\",\"('is',7)\",\"('best',8)\"]\n",
    "print(\"the original list is:\" +str(test_list))\n",
    "res=[eval(ele) for ele in test_list]\n",
    "print(\"the list after conversion is:\" +str(res))"
   ]
  },
  {
   "cell_type": "code",
   "execution_count": 18,
   "metadata": {},
   "outputs": [
    {
     "name": "stdout",
     "output_type": "stream",
     "text": [
      "[('python', 5), ('is', 8), ('best', 7)]\n"
     ]
    }
   ],
   "source": [
    "#convert dictionary to list of tuples\n",
    "dict={'python':5,'is':8,'best':7}\n",
    "#list=list(dict.items())\n",
    "list=[(k,v) for k,v in dict.items()]\n",
    "print(list)"
   ]
  },
  {
   "cell_type": "code",
   "execution_count": 19,
   "metadata": {},
   "outputs": [
    {
     "name": "stdout",
     "output_type": "stream",
     "text": [
      "[(2, 8), (3, 27), (4, 64), (5, 125), (7, 343)]\n"
     ]
    }
   ],
   "source": [
    "list1=[2,3,4,5,7]\n",
    "res=[(val, pow(val, 3)) for val in list1]\n",
    "print(res)"
   ]
  },
  {
   "cell_type": "code",
   "execution_count": 20,
   "metadata": {},
   "outputs": [
    {
     "data": {
      "text/plain": [
       "[(2, 8), (3, 27), (4, 64), (5, 125), (7, 343)]"
      ]
     },
     "execution_count": 20,
     "metadata": {},
     "output_type": "execute_result"
    }
   ],
   "source": [
    "res"
   ]
  },
  {
   "cell_type": "code",
   "execution_count": 25,
   "metadata": {},
   "outputs": [
    {
     "ename": "TypeError",
     "evalue": "'dict' object is not callable",
     "output_type": "error",
     "traceback": [
      "\u001b[1;31m---------------------------------------------------------------------------\u001b[0m",
      "\u001b[1;31mTypeError\u001b[0m                                 Traceback (most recent call last)",
      "\u001b[1;32m<ipython-input-25-2364171b6992>\u001b[0m in \u001b[0;36m<module>\u001b[1;34m\u001b[0m\n\u001b[0;32m      4\u001b[0m     \u001b[1;32mreturn\u001b[0m \u001b[0mdi\u001b[0m\u001b[1;33m\u001b[0m\u001b[1;33m\u001b[0m\u001b[0m\n\u001b[0;32m      5\u001b[0m \u001b[0mdictionary\u001b[0m\u001b[1;33m=\u001b[0m\u001b[1;33m{\u001b[0m\u001b[1;33m}\u001b[0m\u001b[1;33m\u001b[0m\u001b[1;33m\u001b[0m\u001b[0m\n\u001b[1;32m----> 6\u001b[1;33m \u001b[0mprint\u001b[0m\u001b[1;33m(\u001b[0m\u001b[0mConvert\u001b[0m\u001b[1;33m(\u001b[0m\u001b[0mres\u001b[0m\u001b[1;33m,\u001b[0m\u001b[0mdictionary\u001b[0m\u001b[1;33m)\u001b[0m\u001b[1;33m)\u001b[0m\u001b[1;33m\u001b[0m\u001b[1;33m\u001b[0m\u001b[0m\n\u001b[0m",
      "\u001b[1;32m<ipython-input-25-2364171b6992>\u001b[0m in \u001b[0;36mConvert\u001b[1;34m(res, di)\u001b[0m\n\u001b[0;32m      1\u001b[0m \u001b[1;31m#convert tuple into dictionary\u001b[0m\u001b[1;33m\u001b[0m\u001b[1;33m\u001b[0m\u001b[1;33m\u001b[0m\u001b[0m\n\u001b[0;32m      2\u001b[0m \u001b[1;32mdef\u001b[0m \u001b[0mConvert\u001b[0m\u001b[1;33m(\u001b[0m\u001b[0mres\u001b[0m\u001b[1;33m,\u001b[0m \u001b[0mdi\u001b[0m\u001b[1;33m)\u001b[0m\u001b[1;33m:\u001b[0m\u001b[1;33m\u001b[0m\u001b[1;33m\u001b[0m\u001b[0m\n\u001b[1;32m----> 3\u001b[1;33m     \u001b[0mdi\u001b[0m\u001b[1;33m=\u001b[0m\u001b[0mdict\u001b[0m\u001b[1;33m(\u001b[0m\u001b[0mres\u001b[0m\u001b[1;33m)\u001b[0m\u001b[1;33m\u001b[0m\u001b[1;33m\u001b[0m\u001b[0m\n\u001b[0m\u001b[0;32m      4\u001b[0m     \u001b[1;32mreturn\u001b[0m \u001b[0mdi\u001b[0m\u001b[1;33m\u001b[0m\u001b[1;33m\u001b[0m\u001b[0m\n\u001b[0;32m      5\u001b[0m \u001b[0mdictionary\u001b[0m\u001b[1;33m=\u001b[0m\u001b[1;33m{\u001b[0m\u001b[1;33m}\u001b[0m\u001b[1;33m\u001b[0m\u001b[1;33m\u001b[0m\u001b[0m\n",
      "\u001b[1;31mTypeError\u001b[0m: 'dict' object is not callable"
     ]
    }
   ],
   "source": [
    "#convert tuple into dictionary\n",
    "def Convert(res, di):\n",
    "    di=dict(res)\n",
    "    return di\n",
    "dictionary={}\n",
    "print(Convert(res, dictionary))"
   ]
  },
  {
   "cell_type": "code",
   "execution_count": 26,
   "metadata": {},
   "outputs": [
    {
     "name": "stdout",
     "output_type": "stream",
     "text": [
      "[('hari', 2), ('gopal', 5), ('ram', 8), ('verma', 9)]\n"
     ]
    }
   ],
   "source": [
    "#sort a list of tuples by 2nd item\n",
    "def Sort_Tuple(tup):\n",
    "    tup.sort(key=lambda x: x[1])\n",
    "    return tup\n",
    "tup=[(\"ram\",8),(\"gopal\",5),(\"verma\",9),(\"hari\",2)]\n",
    "print(Sort_Tuple(tup))"
   ]
  },
  {
   "cell_type": "code",
   "execution_count": 28,
   "metadata": {},
   "outputs": [
    {
     "name": "stdout",
     "output_type": "stream",
     "text": [
      "[(1, 2), (6, 9), (5, 7), (3, 6)]\n"
     ]
    }
   ],
   "source": [
    "#remove duplicate from tuple\n",
    "def removeDuplicates(lst):\n",
    "    return [t for t in (set(tuple(i) for i in lst))]\n",
    "lst=[(1,2),(5,7),(3,6),(5,7),(1,2),(6,9),(3,6)]\n",
    "print(removeDuplicates(lst))"
   ]
  },
  {
   "cell_type": "code",
   "execution_count": 32,
   "metadata": {},
   "outputs": [
    {
     "name": "stdout",
     "output_type": "stream",
     "text": [
      "the origional list is:[('python', 3), ('is', 6), ('best', 5), ('language', 8)]\n",
      "the unzip list is:[['python', 'is', 'best', 'language'], [3, 6, 5, 8]]\n"
     ]
    }
   ],
   "source": [
    "#unzip a list of tuples\n",
    "test_list=[(\"python\",3),(\"is\",6),(\"best\",5),(\"language\",8)]\n",
    "print(\"the origional list is:\" +str(test_list))\n",
    "res= [[i for i, j in test_list],\n",
    "     [j for i, j in test_list]]\n",
    "print(\"the unzip list is:\" +str(res))"
   ]
  },
  {
   "cell_type": "code",
   "execution_count": 33,
   "metadata": {},
   "outputs": [
    {
     "name": "stdout",
     "output_type": "stream",
     "text": [
      "the initial list is:[('b', 52), ('v', 67), ('h', 96), ('k', 120), ('o', 177), ('y', 100), ('g', 222)]\n",
      "resultant tuple list is:[('b', 52), ('v', 67), ('h', 96), ('y', 100)]\n"
     ]
    }
   ],
   "source": [
    "#remove tuple from list of tuples if greater than n\n",
    "ini_tuple=[(\"b\",52),(\"v\",67),(\"h\",96),(\"k\",120),(\"o\",177),(\"y\",100),(\"g\",222)]\n",
    "print(\"the initial list is:\" +str(ini_tuple))\n",
    "res= [i for i in ini_tuple if i[1]<=100]\n",
    "print(\"resultant tuple list is:\" +str(res))"
   ]
  },
  {
   "cell_type": "code",
   "execution_count": 34,
   "metadata": {},
   "outputs": [
    {
     "name": "stdout",
     "output_type": "stream",
     "text": [
      "sorted:\n",
      "[(1, 2, 3), (7, 4, 1), (4, 5, 6), (9, 6, 3)]\n"
     ]
    }
   ],
   "source": [
    "#sort tuples in increasing order by any key\n",
    "def last(n):\n",
    "    return n[m]\n",
    "def sort(tuples):\n",
    "    return sorted(tuples, key=last)\n",
    "a=[(4,5,6),(1,2,3),(7,4,1),(9,6,3)]\n",
    "m=1\n",
    "print(\"sorted:\")\n",
    "print(sort(a))"
   ]
  },
  {
   "cell_type": "code",
   "execution_count": 3,
   "metadata": {},
   "outputs": [
    {
     "name": "stdout",
     "output_type": "stream",
     "text": [
      "[0, 2, 4, 6, 7, 5, 3, 1]\n"
     ]
    }
   ],
   "source": [
    "#sort even placed in incresing order and odd placed in decreasing order.\n",
    "def evenOddsort(input):\n",
    "    evens=[input[i] for i in range(0,len(input)) if i%2==0]\n",
    "    odds=[input[i] for i in range(0,len(input)) if i%2!=0]\n",
    "    print(sorted(evens) + sorted(odds,reverse=True))\n",
    "if __name__==\"__main__\":\n",
    "    #input=[2,5,3,6,4,8,9,7,0,1,11,29,31,44,58]\n",
    "    input=[0,1,2,3,4,5,6,7]\n",
    "    evenOddsort(input)"
   ]
  },
  {
   "cell_type": "code",
   "execution_count": 5,
   "metadata": {},
   "outputs": [
    {
     "name": "stdout",
     "output_type": "stream",
     "text": [
      "pythonisveryeasy\n"
     ]
    }
   ],
   "source": [
    "def removeAll(input):\n",
    "    sepChar=[char for char in input if\n",
    "             ord(char) in range(ord('a'),ord('z')+1,1) or ord(char) in\n",
    "            range(ord('A'),ord('B')+1,1)]\n",
    "    return ''.join(sepChar)\n",
    "if __name__==\"__main__\":\n",
    "    input=\"p/y@#t>h^&on!! is**v?e&&r<y.. ea%$s##y+\"\n",
    "    print(removeAll(input))"
   ]
  },
  {
   "cell_type": "markdown",
   "metadata": {},
   "source": [
    "# Dictionary"
   ]
  },
  {
   "cell_type": "code",
   "execution_count": 4,
   "metadata": {},
   "outputs": [
    {
     "name": "stdout",
     "output_type": "stream",
     "text": [
      "{'n': 5, 'bgf': 142, 'fds': 123, 'dcx': 745, 'bf': 20}\n"
     ]
    }
   ],
   "source": [
    "#convert list to dictionary\n",
    "def convert(lst):\n",
    "    res_dict={lst[i]:lst[i+1] for i in range(0,len(lst),2)}\n",
    "    return res_dict\n",
    "lst=['n',5,'bgf',142,'fds',123,'dcx',745,'bf',20]\n",
    "print(convert(lst))"
   ]
  },
  {
   "cell_type": "code",
   "execution_count": 13,
   "metadata": {},
   "outputs": [
    {
     "name": "stdout",
     "output_type": "stream",
     "text": [
      "[{'Student': [{'Exam': 90, 'grade': 'A'}, {'Exam': 80, 'grade': 'E'}, {'Exam': 85, 'grade': 'B'}], 'Name': 'Hitesh Kumar'}, {'Student': [{'Exam': 88, 'grade': 'A'}, {'Exam': 55, 'grade': 'c'}], 'Name': 'Ritesh kumar'}]\n"
     ]
    }
   ],
   "source": [
    "#convert list of nested sictionary to pandas dataframe.\n",
    "import pandas as pd\n",
    "list=[\n",
    "    {\n",
    "    \"Student\":[{\"Exam\":90,\"grade\":'A'},\n",
    "              {\"Exam\":80,\"grade\":'E'},\n",
    "              {\"Exam\":85,\"grade\":'B'}\n",
    "              ],\n",
    "    \"Name\":\"Hitesh Kumar\"\n",
    "    },\n",
    "    {\n",
    "    \"Student\":[{\"Exam\":88,\"grade\":'A'},\n",
    "               {\"Exam\":55,\"grade\":'c'}\n",
    "              ],\n",
    "    \"Name\":\"Ritesh kumar\"\n",
    "    }\n",
    "    ]\n",
    "print(list)"
   ]
  },
  {
   "cell_type": "code",
   "execution_count": 14,
   "metadata": {},
   "outputs": [
    {
     "name": "stdout",
     "output_type": "stream",
     "text": [
      "   Exam grade          Name\n",
      "0    90     A  Hitesh Kumar\n",
      "1    80     E  Hitesh Kumar\n",
      "2    85     B  Hitesh Kumar\n",
      "   Exam grade          Name\n",
      "0    90     A  Hitesh Kumar\n",
      "1    80     E  Hitesh Kumar\n",
      "2    85     B  Hitesh Kumar\n",
      "3    88     A  Ritesh kumar\n",
      "4    55     c  Ritesh kumar\n"
     ]
    }
   ],
   "source": [
    "rows=[]\n",
    "for data in list:\n",
    "    data_row=data[\"Student\"]\n",
    "    time=data[\"Name\"]\n",
    "    for row in data_row:\n",
    "        row[\"Name\"]=time\n",
    "        rows.append(row)\n",
    "    \n",
    "    df=pd.DataFrame(rows)\n",
    "    print(df)"
   ]
  },
  {
   "cell_type": "code",
   "execution_count": 15,
   "metadata": {},
   "outputs": [
    {
     "name": "stdout",
     "output_type": "stream",
     "text": [
      "               Name  Exam                  \n",
      "grade                   A     B     E     c\n",
      "0      Hitesh Kumar  90.0  85.0  80.0   NaN\n",
      "1      Ritesh kumar  88.0   NaN   NaN  55.0\n"
     ]
    },
    {
     "name": "stderr",
     "output_type": "stream",
     "text": [
      "C:\\ProgramData\\Anaconda3\\lib\\site-packages\\ipykernel_launcher.py:2: UserWarning: Pandas doesn't allow columns to be created via a new attribute name - see https://pandas.pydata.org/pandas-docs/stable/indexing.html#attribute-access\n",
      "  \n"
     ]
    }
   ],
   "source": [
    "df=df.pivot_table(index=\"Name\",columns=[\"grade\"],values=[\"Exam\"]).reset_index()\n",
    "df.column=[\"Name\",\"Physics\",\"Math\",\"Chemestry\"]\n",
    "print(df)"
   ]
  },
  {
   "cell_type": "code",
   "execution_count": 2,
   "metadata": {},
   "outputs": [
    {
     "name": "stdout",
     "output_type": "stream",
     "text": [
      "initial string {1, 2, 3, 4, 5}\n",
      "<class 'set'>\n",
      "final list {1: 'python', 2: 'python', 3: 'python', 4: 'python', 5: 'python'}\n",
      "<class 'dict'>\n"
     ]
    }
   ],
   "source": [
    "#convert a set into dictionary.\n",
    "ini_set={1,2,3,4,5}\n",
    "print(\"initial string\",ini_set)\n",
    "print(type(ini_set))\n",
    "\n",
    "res=dict.fromkeys(ini_set,'python')\n",
    "print(\"final list\",res)\n",
    "print(type(res))"
   ]
  },
  {
   "cell_type": "code",
   "execution_count": 4,
   "metadata": {},
   "outputs": [
    {
     "name": "stdout",
     "output_type": "stream",
     "text": [
      "the original list is:[(1, 'python'), (1, 'is'), (3, 'best'), (5, 'for'), (4, 'eh')]\n",
      "merge dictionary is:{1: ['python', 'is'], 3: ['best'], 5: ['for'], 4: ['eh']}\n"
     ]
    }
   ],
   "source": [
    "#convert list of tuples to dictionary value lists.\n",
    "from collections import defaultdict\n",
    "test_list=[(1,'python'),(1,'is'),(3,'best'),(5,'for'),(4,'eh')]\n",
    "print(\"the original list is:\" +str(test_list))\n",
    "res=defaultdict(list)\n",
    "for i,j in test_list:\n",
    "    res[i].append(j)\n",
    "    \n",
    "print(\"merge dictionary is:\" +str(dict(res)))"
   ]
  },
  {
   "cell_type": "code",
   "execution_count": null,
   "metadata": {},
   "outputs": [],
   "source": []
  }
 ],
 "metadata": {
  "kernelspec": {
   "display_name": "Python 3",
   "language": "python",
   "name": "python3"
  },
  "language_info": {
   "codemirror_mode": {
    "name": "ipython",
    "version": 3
   },
   "file_extension": ".py",
   "mimetype": "text/x-python",
   "name": "python",
   "nbconvert_exporter": "python",
   "pygments_lexer": "ipython3",
   "version": "3.7.4"
  }
 },
 "nbformat": 4,
 "nbformat_minor": 2
}
