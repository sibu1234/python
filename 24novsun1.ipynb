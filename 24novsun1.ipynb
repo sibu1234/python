{
 "cells": [
  {
   "cell_type": "markdown",
   "metadata": {},
   "source": [
    "# loops"
   ]
  },
  {
   "cell_type": "code",
   "execution_count": 1,
   "metadata": {},
   "outputs": [
    {
     "name": "stdout",
     "output_type": "stream",
     "text": [
      "1\n",
      "6\n",
      "12\n",
      "15\n",
      "19\n",
      "27\n",
      "34\n",
      "43\n",
      "sum is 43\n"
     ]
    }
   ],
   "source": [
    "numbers=[1,5,6,3,4,8,7,9]\n",
    "sum=0\n",
    "for val in numbers:\n",
    "    sum=sum+val\n",
    "    print(sum)\n",
    "    \n",
    "print(\"sum is\",sum)"
   ]
  },
  {
   "cell_type": "code",
   "execution_count": 2,
   "metadata": {},
   "outputs": [
    {
     "name": "stdout",
     "output_type": "stream",
     "text": [
      "range(0, 10)\n",
      "[0, 1, 2, 3, 4, 5, 6, 7, 8, 9]\n"
     ]
    }
   ],
   "source": [
    "print(range(10))\n",
    "print(list(range(10)))"
   ]
  },
  {
   "cell_type": "markdown",
   "metadata": {},
   "source": [
    "we can use the range() function in loops to iterate the values."
   ]
  },
  {
   "cell_type": "code",
   "execution_count": 3,
   "metadata": {},
   "outputs": [
    {
     "name": "stdout",
     "output_type": "stream",
     "text": [
      "i like pop\n",
      "i like rock\n",
      "i like jazz\n"
     ]
    }
   ],
   "source": [
    "genre=[\"pop\",\"rock\",\"jazz\"]\n",
    "\n",
    "for i in range(len(genre)):\n",
    "    print(\"i like\",genre[i])"
   ]
  },
  {
   "cell_type": "code",
   "execution_count": 4,
   "metadata": {},
   "outputs": [
    {
     "name": "stdout",
     "output_type": "stream",
     "text": [
      "i like pop\n",
      "i like rock\n",
      "i like jazz\n"
     ]
    }
   ],
   "source": [
    "for i in genre:\n",
    "    print(\"i like\", i)"
   ]
  },
  {
   "cell_type": "markdown",
   "metadata": {},
   "source": [
    "# for loops with else"
   ]
  },
  {
   "cell_type": "code",
   "execution_count": 6,
   "metadata": {
    "scrolled": true
   },
   "outputs": [
    {
     "name": "stdout",
     "output_type": "stream",
     "text": [
      "0\n",
      "1\n",
      "5\n",
      "no items left\n"
     ]
    }
   ],
   "source": [
    "digits=[0,1,5]\n",
    "for i in digits:\n",
    "    print(i)\n",
    "else:\n",
    "    print(\"no items left\")"
   ]
  },
  {
   "cell_type": "markdown",
   "metadata": {},
   "source": [
    "# while loop"
   ]
  },
  {
   "cell_type": "code",
   "execution_count": 8,
   "metadata": {},
   "outputs": [
    {
     "name": "stdout",
     "output_type": "stream",
     "text": [
      "1\n",
      "289\n",
      "361\n"
     ]
    }
   ],
   "source": [
    "m=[1,None,17,19,None]\n",
    "for x in m:\n",
    "    while x:\n",
    "        print(x**2)\n",
    "        break"
   ]
  },
  {
   "cell_type": "code",
   "execution_count": 10,
   "metadata": {},
   "outputs": [
    {
     "name": "stdout",
     "output_type": "stream",
     "text": [
      "enter n:5\n",
      "sum is 15\n"
     ]
    }
   ],
   "source": [
    "n=int(input(\"enter n:\"))\n",
    "sum=0\n",
    "i=1\n",
    "while i<=n:\n",
    "    sum=sum+i\n",
    "    i=i+1\n",
    "print(\"sum is\", sum)"
   ]
  },
  {
   "cell_type": "markdown",
   "metadata": {},
   "source": [
    "# while loops with else"
   ]
  },
  {
   "cell_type": "code",
   "execution_count": 11,
   "metadata": {},
   "outputs": [
    {
     "name": "stdout",
     "output_type": "stream",
     "text": [
      "inside loop\n",
      "inside loop\n",
      "inside loop\n",
      "inside else\n"
     ]
    }
   ],
   "source": [
    "counter=0\n",
    "while counter<3:\n",
    "    print(\"inside loop\")\n",
    "    counter=counter+1\n",
    "else:\n",
    "    print(\"inside else\")"
   ]
  },
  {
   "cell_type": "markdown",
   "metadata": {},
   "source": [
    "# break and continue statements"
   ]
  },
  {
   "cell_type": "markdown",
   "metadata": {},
   "source": [
    "In python,break and continue statements can alter the flow of normal loop.\n",
    "loops iterate over a block of code until test expression is false.\n",
    "but sometimes we wish to terminate the current iteration or even the whole loop without checking test expression"
   ]
  },
  {
   "cell_type": "code",
   "execution_count": 12,
   "metadata": {},
   "outputs": [
    {
     "name": "stdout",
     "output_type": "stream",
     "text": [
      "s\n",
      "t\n",
      "r\n",
      "n\n",
      "g\n",
      "the end\n"
     ]
    }
   ],
   "source": [
    "for val in \"string\":\n",
    "    if val== \"i\":\n",
    "        continue\n",
    "    print(val)\n",
    "print(\"the end\")"
   ]
  },
  {
   "cell_type": "markdown",
   "metadata": {},
   "source": [
    "in python pass is a null statement.\n",
    "in python comment is ignored but pass is not.\n",
    "however nothing happens pass is executed. it results into no operation(NOP)"
   ]
  },
  {
   "cell_type": "code",
   "execution_count": 15,
   "metadata": {},
   "outputs": [
    {
     "name": "stdout",
     "output_type": "stream",
     "text": [
      "s\n"
     ]
    }
   ],
   "source": [
    "sequence=\"pass\"\n",
    "for val in sequence:\n",
    "    pass\n",
    "print(val)"
   ]
  },
  {
   "cell_type": "code",
   "execution_count": 16,
   "metadata": {},
   "outputs": [
    {
     "name": "stdout",
     "output_type": "stream",
     "text": [
      "3 positive number\n",
      "this is always printed\n"
     ]
    }
   ],
   "source": [
    "num=3\n",
    "if num>0:\n",
    "    print(num,\"positive number\")\n",
    "print(\"this is always printed\")"
   ]
  },
  {
   "cell_type": "code",
   "execution_count": 17,
   "metadata": {},
   "outputs": [
    {
     "name": "stdout",
     "output_type": "stream",
     "text": [
      "positive or zero\n"
     ]
    }
   ],
   "source": [
    "num=0\n",
    "if num>=0:\n",
    "    print(\"positive or zero\")\n",
    "else:\n",
    "    print(\"negetive number\")"
   ]
  },
  {
   "cell_type": "code",
   "execution_count": 19,
   "metadata": {},
   "outputs": [
    {
     "name": "stdout",
     "output_type": "stream",
     "text": [
      "odd number\n",
      "even number\n",
      "odd number\n",
      "even number\n",
      "odd number\n",
      "even number\n",
      "odd number\n",
      "even number\n",
      "odd number\n",
      "task finished\n"
     ]
    }
   ],
   "source": [
    "m=[1,2,3,4,5,6,7,8,9]\n",
    "for x in m:\n",
    "    if x%2==1:\n",
    "        print(\"odd number\")\n",
    "    else:\n",
    "        print(\"even number\")\n",
    "print(\"task finished\")"
   ]
  },
  {
   "cell_type": "code",
   "execution_count": 22,
   "metadata": {},
   "outputs": [
    {
     "name": "stdout",
     "output_type": "stream",
     "text": [
      "enter a number:10\n",
      "positive number\n"
     ]
    }
   ],
   "source": [
    "num=float(input(\"enter a number:\"))\n",
    "if num>=0:\n",
    "    print(\"positive number\")\n",
    "elif num==0:\n",
    "    print(\"zero\")\n",
    "else:\n",
    "    print(\"negetive number\")"
   ]
  },
  {
   "cell_type": "code",
   "execution_count": null,
   "metadata": {},
   "outputs": [],
   "source": [
    "num=0\n",
    "list_n= []\n",
    "num=int(input(\"enter a number:\"))\n",
    "while num!=0:\n",
    "    \n",
    "    list_n.append(num)\n",
    "    print(list_n)"
   ]
  },
  {
   "cell_type": "markdown",
   "metadata": {},
   "source": []
  },
  {
   "cell_type": "code",
   "execution_count": null,
   "metadata": {},
   "outputs": [],
   "source": []
  }
 ],
 "metadata": {
  "kernelspec": {
   "display_name": "Python 3",
   "language": "python",
   "name": "python3"
  },
  "language_info": {
   "codemirror_mode": {
    "name": "ipython",
    "version": 3
   },
   "file_extension": ".py",
   "mimetype": "text/x-python",
   "name": "python",
   "nbconvert_exporter": "python",
   "pygments_lexer": "ipython3",
   "version": "3.7.4"
  }
 },
 "nbformat": 4,
 "nbformat_minor": 2
}
