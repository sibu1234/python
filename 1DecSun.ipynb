{
 "cells": [
  {
   "cell_type": "markdown",
   "metadata": {},
   "source": [
    "# Class and Objects"
   ]
  },
  {
   "cell_type": "code",
   "execution_count": 1,
   "metadata": {},
   "outputs": [
    {
     "data": {
      "text/plain": [
       "'hi, i am ram, i am from japan'"
      ]
     },
     "execution_count": 1,
     "metadata": {},
     "output_type": "execute_result"
    }
   ],
   "source": [
    "test=\"hi, i am {}, i am from {}\".format(\"ram\",\"japan\")\n",
    "test"
   ]
  },
  {
   "cell_type": "code",
   "execution_count": 2,
   "metadata": {},
   "outputs": [],
   "source": [
    "class parrot:\n",
    "    #class attributes\n",
    "    species=\"bird\"\n",
    "    def __init__(self,name,age):\n",
    "        self.name=name\n",
    "        self.age=age"
   ]
  },
  {
   "cell_type": "code",
   "execution_count": 3,
   "metadata": {},
   "outputs": [
    {
     "name": "stdout",
     "output_type": "stream",
     "text": [
      "tom\n",
      "10\n"
     ]
    }
   ],
   "source": [
    "#instantiate the parrot class\n",
    "blu=parrot(\"tom\",10)\n",
    "woo=parrot(\"wow\",15)\n",
    "print(blu.name)\n",
    "print(blu.age)"
   ]
  },
  {
   "cell_type": "code",
   "execution_count": 4,
   "metadata": {},
   "outputs": [
    {
     "name": "stdout",
     "output_type": "stream",
     "text": [
      "blue is a bird\n",
      "woo is a bird\n"
     ]
    }
   ],
   "source": [
    "print(\"blue is a {}\".format(blu.species))\n",
    "print(\"woo is a {}\".format(woo.species))"
   ]
  },
  {
   "cell_type": "code",
   "execution_count": 5,
   "metadata": {},
   "outputs": [],
   "source": [
    "class parrot:\n",
    "    def __init__(self,name,age):\n",
    "        self.name=name\n",
    "        self.age=age\n",
    "        \n",
    "    def sing(self,song):\n",
    "        return \"{} sings {}\".format(self.name,song)\n",
    "    \n",
    "    def dance(self):\n",
    "        return \"{} is now danceing\".format(self.name)"
   ]
  },
  {
   "cell_type": "code",
   "execution_count": 6,
   "metadata": {},
   "outputs": [
    {
     "name": "stdout",
     "output_type": "stream",
     "text": [
      "Blu sings happy\n",
      "Blu is now danceing\n"
     ]
    }
   ],
   "source": [
    "blu=parrot(\"Blu\",10)\n",
    "\n",
    "print(blu.sing(\"happy\"))\n",
    "print(blu.dance())"
   ]
  },
  {
   "cell_type": "markdown",
   "metadata": {},
   "source": [
    "# Inheritance"
   ]
  },
  {
   "cell_type": "markdown",
   "metadata": {},
   "source": [
    "Inheritance is a way of creating new class for using details of exixting class without modifing it. The newly formed class is a derived class (or child class).Similarly, the existing class is a base class(or parent class)."
   ]
  },
  {
   "cell_type": "code",
   "execution_count": 7,
   "metadata": {},
   "outputs": [],
   "source": [
    "class bird:\n",
    "    def __init__(self):\n",
    "        print(\"Bird is ready\")\n",
    "    def whoisthis(self):\n",
    "        print(\"bird\")\n",
    "    def swim(self):\n",
    "        print(\"swim faster\")"
   ]
  },
  {
   "cell_type": "code",
   "execution_count": 11,
   "metadata": {},
   "outputs": [],
   "source": [
    "class penguin(bird):\n",
    "    def __init__(self):\n",
    "        print(\"penguin is ready\")\n",
    "    def whoisthis(self):\n",
    "        print(\"penguin\")\n",
    "    def run(self):\n",
    "        print(\"run faster\")"
   ]
  },
  {
   "cell_type": "code",
   "execution_count": 15,
   "metadata": {},
   "outputs": [
    {
     "name": "stdout",
     "output_type": "stream",
     "text": [
      "Bird is ready\n",
      "bird\n",
      "swim faster\n",
      "<__main__.bird object at 0x000000943D161C48>\n"
     ]
    }
   ],
   "source": [
    "b1=bird()\n",
    "b1.whoisthis()\n",
    "b1.swim()\n",
    "print(b1)\n",
    "#b1.run()"
   ]
  },
  {
   "cell_type": "code",
   "execution_count": 13,
   "metadata": {},
   "outputs": [
    {
     "name": "stdout",
     "output_type": "stream",
     "text": [
      "penguin is ready\n",
      "penguin\n",
      "swim faster\n",
      "run faster\n"
     ]
    }
   ],
   "source": [
    "p1=penguin()\n",
    "p1.whoisthis()\n",
    "p1.swim()\n",
    "p1.run()"
   ]
  },
  {
   "cell_type": "code",
   "execution_count": null,
   "metadata": {},
   "outputs": [],
   "source": []
  }
 ],
 "metadata": {
  "kernelspec": {
   "display_name": "Python 3",
   "language": "python",
   "name": "python3"
  },
  "language_info": {
   "codemirror_mode": {
    "name": "ipython",
    "version": 3
   },
   "file_extension": ".py",
   "mimetype": "text/x-python",
   "name": "python",
   "nbconvert_exporter": "python",
   "pygments_lexer": "ipython3",
   "version": "3.7.4"
  }
 },
 "nbformat": 4,
 "nbformat_minor": 2
}
