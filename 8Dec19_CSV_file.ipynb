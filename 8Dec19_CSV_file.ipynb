{
 "cells": [
  {
   "cell_type": "code",
   "execution_count": 1,
   "metadata": {},
   "outputs": [],
   "source": [
    "import csv\n",
    "import os"
   ]
  },
  {
   "cell_type": "code",
   "execution_count": 3,
   "metadata": {},
   "outputs": [
    {
     "data": {
      "text/plain": [
       "'E:\\\\afitech\\\\Afitech PPML Datasets'"
      ]
     },
     "execution_count": 3,
     "metadata": {},
     "output_type": "execute_result"
    }
   ],
   "source": [
    "os.chdir(\"E:\\\\afitech\\\\Afitech PPML Datasets\")\n",
    "os.getcwd()"
   ]
  },
  {
   "cell_type": "code",
   "execution_count": 4,
   "metadata": {},
   "outputs": [],
   "source": [
    "filename= \"mtcars.csv\""
   ]
  },
  {
   "cell_type": "code",
   "execution_count": 6,
   "metadata": {},
   "outputs": [],
   "source": [
    "fields=[]\n",
    "rows=[]\n",
    "\n",
    "fields2= []"
   ]
  },
  {
   "cell_type": "code",
   "execution_count": 7,
   "metadata": {},
   "outputs": [],
   "source": [
    "with open(filename,'r') as csvfile:\n",
    "    csvreader=csv.reader(csvfile)\n",
    "    fields=next(csvreader)\n",
    "    for item in csvreader:\n",
    "        rows.append(item)"
   ]
  },
  {
   "cell_type": "code",
   "execution_count": 9,
   "metadata": {},
   "outputs": [
    {
     "name": "stdout",
     "output_type": "stream",
     "text": [
      "['', 'mpg', 'cyl', 'disp', 'hp', 'drat', 'wt', 'qsec', 'vs', 'am', 'gear', 'carb']\n"
     ]
    }
   ],
   "source": [
    "print(fields)"
   ]
  },
  {
   "cell_type": "code",
   "execution_count": 10,
   "metadata": {},
   "outputs": [
    {
     "name": "stdout",
     "output_type": "stream",
     "text": [
      "[['Mazda RX4', '21', '6', '160', '110', '3.9', '2.62', '16.46', '0', '1', '4', '4'], ['Mazda RX4 Wag', '21', '6', '160', '110', '3.9', '2.875', '17.02', '0', '1', '4', '4'], ['Datsun 710', '22.8', '4', '108', '93', '3.85', '2.32', '18.61', '1', '1', '4', '1'], ['Hornet 4 Drive', '21.4', '6', '258', '110', '3.08', '3.215', '19.44', '1', '0', '3', '1'], ['Hornet Sportabout', '18.7', '8', '360', '175', '3.15', '3.44', '17.02', '0', '0', '3', '2'], ['Valiant', '18.1', '6', '225', '105', '2.76', '3.46', '20.22', '1', '0', '3', '1'], ['Duster 360', '14.3', '8', '360', '245', '3.21', '3.57', '15.84', '0', '0', '3', '4'], ['Merc 240D', '24.4', '4', '146.7', '62', '3.69', '3.19', '20', '1', '0', '4', '2'], ['Merc 230', '22.8', '4', '140.8', '95', '3.92', '3.15', '22.9', '1', '0', '4', '2'], ['Merc 280', '19.2', '6', '167.6', '123', '3.92', '3.44', '18.3', '1', '0', '4', '4'], ['Merc 280C', '17.8', '6', '167.6', '123', '3.92', '3.44', '18.9', '1', '0', '4', '4'], ['Merc 450SE', '16.4', '8', '275.8', '180', '3.07', '4.07', '17.4', '0', '0', '3', '3'], ['Merc 450SL', '17.3', '8', '275.8', '180', '3.07', '3.73', '17.6', '0', '0', '3', '3'], ['Merc 450SLC', '15.2', '8', '275.8', '180', '3.07', '3.78', '18', '0', '0', '3', '3'], ['Cadillac Fleetwood', '10.4', '8', '472', '205', '2.93', '5.25', '17.98', '0', '0', '3', '4'], ['Lincoln Continental', '10.4', '8', '460', '215', '3', '5.424', '17.82', '0', '0', '3', '4'], ['Chrysler Imperial', '14.7', '8', '440', '230', '3.23', '5.345', '17.42', '0', '0', '3', '4'], ['Fiat 128', '32.4', '4', '78.7', '66', '4.08', '2.2', '19.47', '1', '1', '4', '1'], ['Honda Civic', '30.4', '4', '75.7', '52', '4.93', '1.615', '18.52', '1', '1', '4', '2'], ['Toyota Corolla', '33.9', '4', '71.1', '65', '4.22', '1.835', '19.9', '1', '1', '4', '1'], ['Toyota Corona', '21.5', '4', '120.1', '97', '3.7', '2.465', '20.01', '1', '0', '3', '1'], ['Dodge Challenger', '15.5', '8', '318', '150', '2.76', '3.52', '16.87', '0', '0', '3', '2'], ['AMC Javelin', '15.2', '8', '304', '150', '3.15', '3.435', '17.3', '0', '0', '3', '2'], ['Camaro Z28', '13.3', '8', '350', '245', '3.73', '3.84', '15.41', '0', '0', '3', '4'], ['Pontiac Firebird', '19.2', '8', '400', '175', '3.08', '3.845', '17.05', '0', '0', '3', '2'], ['Fiat X1-9', '27.3', '4', '79', '66', '4.08', '1.935', '18.9', '1', '1', '4', '1'], ['Porsche 914-2', '26', '4', '120.3', '91', '4.43', '2.14', '16.7', '0', '1', '5', '2'], ['Lotus Europa', '30.4', '4', '95.1', '113', '3.77', '1.513', '16.9', '1', '1', '5', '2'], ['Ford Pantera L', '15.8', '8', '351', '264', '4.22', '3.17', '14.5', '0', '1', '5', '4'], ['Ferrari Dino', '19.7', '6', '145', '175', '3.62', '2.77', '15.5', '0', '1', '5', '6'], ['Maserati Bora', '15', '8', '301', '335', '3.54', '3.57', '14.6', '0', '1', '5', '8'], ['Volvo 142E', '21.4', '4', '121', '109', '4.11', '2.78', '18.6', '1', '1', '4', '2']]\n"
     ]
    }
   ],
   "source": [
    "print(rows)"
   ]
  },
  {
   "cell_type": "code",
   "execution_count": 12,
   "metadata": {},
   "outputs": [
    {
     "data": {
      "text/plain": [
       "'3.15'"
      ]
     },
     "execution_count": 12,
     "metadata": {},
     "output_type": "execute_result"
    }
   ],
   "source": [
    "rows[8][6]"
   ]
  },
  {
   "cell_type": "code",
   "execution_count": 14,
   "metadata": {},
   "outputs": [
    {
     "name": "stdout",
     "output_type": "stream",
     "text": [
      "Total no of rows:33\n"
     ]
    }
   ],
   "source": [
    "print(\"Total no of rows:{}\".format(csvreader.line_num))"
   ]
  },
  {
   "cell_type": "code",
   "execution_count": 17,
   "metadata": {},
   "outputs": [
    {
     "name": "stdout",
     "output_type": "stream",
     "text": [
      "Field name are:, mpg, cyl, disp, hp, drat, wt, qsec, vs, am, gear, carb\n"
     ]
    }
   ],
   "source": [
    "print('Field name are:' + ', '.join(field for field in fields))"
   ]
  },
  {
   "cell_type": "code",
   "execution_count": 23,
   "metadata": {},
   "outputs": [
    {
     "name": "stdout",
     "output_type": "stream",
     "text": [
      "\n",
      "First 5 rows are:\n",
      "\n",
      "['Mazda RX4', '21', '6', '160', '110', '3.9', '2.62', '16.46', '0', '1', '4', '4']\n",
      "           Mazda RX4\n",
      "                  21\n",
      "                   6\n",
      "                 160\n",
      "                 110\n",
      "                 3.9\n",
      "                2.62\n",
      "               16.46\n",
      "                   0\n",
      "                   1\n",
      "                   4\n",
      "                   4\n",
      "\n",
      "\n",
      "['Mazda RX4 Wag', '21', '6', '160', '110', '3.9', '2.875', '17.02', '0', '1', '4', '4']\n",
      "       Mazda RX4 Wag\n",
      "                  21\n",
      "                   6\n",
      "                 160\n",
      "                 110\n",
      "                 3.9\n",
      "               2.875\n",
      "               17.02\n",
      "                   0\n",
      "                   1\n",
      "                   4\n",
      "                   4\n",
      "\n",
      "\n",
      "['Datsun 710', '22.8', '4', '108', '93', '3.85', '2.32', '18.61', '1', '1', '4', '1']\n",
      "          Datsun 710\n",
      "                22.8\n",
      "                   4\n",
      "                 108\n",
      "                  93\n",
      "                3.85\n",
      "                2.32\n",
      "               18.61\n",
      "                   1\n",
      "                   1\n",
      "                   4\n",
      "                   1\n",
      "\n",
      "\n",
      "['Hornet 4 Drive', '21.4', '6', '258', '110', '3.08', '3.215', '19.44', '1', '0', '3', '1']\n",
      "      Hornet 4 Drive\n",
      "                21.4\n",
      "                   6\n",
      "                 258\n",
      "                 110\n",
      "                3.08\n",
      "               3.215\n",
      "               19.44\n",
      "                   1\n",
      "                   0\n",
      "                   3\n",
      "                   1\n",
      "\n",
      "\n",
      "['Hornet Sportabout', '18.7', '8', '360', '175', '3.15', '3.44', '17.02', '0', '0', '3', '2']\n",
      "   Hornet Sportabout\n",
      "                18.7\n",
      "                   8\n",
      "                 360\n",
      "                 175\n",
      "                3.15\n",
      "                3.44\n",
      "               17.02\n",
      "                   0\n",
      "                   0\n",
      "                   3\n",
      "                   2\n",
      "\n",
      "\n"
     ]
    }
   ],
   "source": [
    "print('\\nFirst 5 rows are:\\n')\n",
    "for row in rows[0:5]:\n",
    "    print(row)\n",
    "    for col in row:\n",
    "        print(\"%20s\"%col);\n",
    "    print('\\n')"
   ]
  },
  {
   "cell_type": "markdown",
   "metadata": {},
   "source": [
    "# Writing CSV file"
   ]
  },
  {
   "cell_type": "code",
   "execution_count": 24,
   "metadata": {},
   "outputs": [],
   "source": [
    "import csv\n",
    "import os"
   ]
  },
  {
   "cell_type": "code",
   "execution_count": 25,
   "metadata": {},
   "outputs": [],
   "source": [
    "os.chdir('E:\\\\ABCD')"
   ]
  },
  {
   "cell_type": "code",
   "execution_count": 26,
   "metadata": {},
   "outputs": [],
   "source": [
    "fields=['Name','Branch','Year','CGPA']"
   ]
  },
  {
   "cell_type": "code",
   "execution_count": 28,
   "metadata": {},
   "outputs": [],
   "source": [
    "rows=[['Nikhil','MECH','2','9.3'],\n",
    "     ['Sanchit','ETC','2','9.1'],\n",
    "     ['Sagar','IT','2','9.2'],\n",
    "     ['Sahil','CIVIL','1','9.0']]"
   ]
  },
  {
   "cell_type": "code",
   "execution_count": 29,
   "metadata": {},
   "outputs": [],
   "source": [
    "filename= \"university_record100.csv\""
   ]
  },
  {
   "cell_type": "code",
   "execution_count": 32,
   "metadata": {},
   "outputs": [],
   "source": [
    "with open(filename,'w') as csvfile:\n",
    "    csvwriter=csv.writer(csvfile)\n",
    "    csvwriter.writerow(fields)\n",
    "    csvwriter.writerows(rows)"
   ]
  },
  {
   "cell_type": "code",
   "execution_count": 1,
   "metadata": {},
   "outputs": [],
   "source": [
    "import csv\n",
    "import os"
   ]
  },
  {
   "cell_type": "code",
   "execution_count": 2,
   "metadata": {},
   "outputs": [],
   "source": [
    "os.chdir('E:\\\\ABCD')"
   ]
  },
  {
   "cell_type": "code",
   "execution_count": 4,
   "metadata": {},
   "outputs": [],
   "source": [
    "mydict=[{'branch':'EE','cgpa':'9.0','Name':'Nikhil','Year':'2'},\n",
    "       {'branch':'ETC','cgpa':'9.1','Name':'Aditya','Year':'3'},\n",
    "       {'branch':'CSE','cgpa':'8.9','Name':'Sanchit','Year':'1.5'},\n",
    "       {'branch':'IT','cgpa':'8.7','Name':'Pratik','Year':'1'},\n",
    "       {'branch':'MECH','cgpa':'9.2','Name':'Sagar','Year':'2.5'},\n",
    "       {'branch':'CIVIL','cgpa':'8.8','Name':'Akhil','Year':'0.5'}]"
   ]
  },
  {
   "cell_type": "code",
   "execution_count": 8,
   "metadata": {},
   "outputs": [],
   "source": [
    "fields=['Name','branch','cgpa','Year']\n",
    "filename='University_records200a.csv'\n",
    "with open(filename,'w') as csvfile:\n",
    "    writer=csv.DictWriter(csvfile,fieldnames=fields)\n",
    "    writer.writeheader()\n",
    "    writer.writerows(mydict)"
   ]
  },
  {
   "cell_type": "code",
   "execution_count": null,
   "metadata": {},
   "outputs": [],
   "source": []
  },
  {
   "cell_type": "code",
   "execution_count": null,
   "metadata": {},
   "outputs": [],
   "source": []
  }
 ],
 "metadata": {
  "kernelspec": {
   "display_name": "Python 3",
   "language": "python",
   "name": "python3"
  },
  "language_info": {
   "codemirror_mode": {
    "name": "ipython",
    "version": 3
   },
   "file_extension": ".py",
   "mimetype": "text/x-python",
   "name": "python",
   "nbconvert_exporter": "python",
   "pygments_lexer": "ipython3",
   "version": "3.7.4"
  }
 },
 "nbformat": 4,
 "nbformat_minor": 2
}
