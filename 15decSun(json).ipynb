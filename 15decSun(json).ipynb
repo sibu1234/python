{
 "cells": [
  {
   "cell_type": "code",
   "execution_count": 7,
   "metadata": {},
   "outputs": [],
   "source": [
    "import json"
   ]
  },
  {
   "cell_type": "code",
   "execution_count": 10,
   "metadata": {},
   "outputs": [
    {
     "name": "stdout",
     "output_type": "stream",
     "text": [
      "<class 'str'>\n",
      "{\"name\":\"john\",\"age\":30,\"city\":\"newyork\"}\n",
      "m\n"
     ]
    }
   ],
   "source": [
    "xj='{\"name\":\"john\",\"age\":30,\"city\":\"newyork\"}'\n",
    "print(type(xj))\n",
    "print(xj)\n",
    "print(xj[4])"
   ]
  },
  {
   "cell_type": "code",
   "execution_count": 11,
   "metadata": {},
   "outputs": [],
   "source": [
    "y=json.loads(xj)"
   ]
  },
  {
   "cell_type": "code",
   "execution_count": 12,
   "metadata": {},
   "outputs": [
    {
     "name": "stdout",
     "output_type": "stream",
     "text": [
      "{'name': 'john', 'age': 30, 'city': 'newyork'}\n",
      "<class 'dict'>\n",
      "30\n"
     ]
    }
   ],
   "source": [
    "print(y)\n",
    "print(type(y))\n",
    "print(y[\"age\"])"
   ]
  },
  {
   "cell_type": "code",
   "execution_count": 13,
   "metadata": {},
   "outputs": [],
   "source": [
    "xd={\n",
    "    \"name\":\"john\",\n",
    "    \"age\":30,\n",
    "    \"city\":\"new york\"\n",
    "}"
   ]
  },
  {
   "cell_type": "code",
   "execution_count": 14,
   "metadata": {},
   "outputs": [
    {
     "name": "stdout",
     "output_type": "stream",
     "text": [
      "{'name': 'john', 'age': 30, 'city': 'new york'}\n",
      "<class 'dict'>\n",
      "30\n"
     ]
    }
   ],
   "source": [
    "print(xd)\n",
    "print(type(xd))\n",
    "print(y[\"age\"])"
   ]
  },
  {
   "cell_type": "code",
   "execution_count": 15,
   "metadata": {},
   "outputs": [
    {
     "name": "stdout",
     "output_type": "stream",
     "text": [
      "{\"name\": \"john\", \"age\": 30, \"city\": \"new york\"}\n",
      "<class 'str'>\n"
     ]
    }
   ],
   "source": [
    "z=json.dumps(xd)\n",
    "print(z)\n",
    "print(type(z))"
   ]
  },
  {
   "cell_type": "code",
   "execution_count": 16,
   "metadata": {},
   "outputs": [
    {
     "name": "stdout",
     "output_type": "stream",
     "text": [
      "{\"name\": \"john\", \"age\": 30}\n",
      "[\"apple\", \"bananas\"]\n",
      "[\"apple\", \"bananas\"]\n",
      "\"hello\"\n",
      "42\n",
      "31.76\n",
      "true\n",
      "false\n",
      "null\n"
     ]
    }
   ],
   "source": [
    "print(json.dumps({\"name\":\"john\",\"age\":30}))\n",
    "print(json.dumps([\"apple\",\"bananas\"]))\n",
    "print(json.dumps((\"apple\",\"bananas\")))\n",
    "print(json.dumps(\"hello\"))\n",
    "print(json.dumps(42))\n",
    "print(json.dumps(31.76))\n",
    "print(json.dumps(True))\n",
    "print(json.dumps(False))\n",
    "print(json.dumps(None))"
   ]
  },
  {
   "cell_type": "code",
   "execution_count": 18,
   "metadata": {},
   "outputs": [
    {
     "name": "stdout",
     "output_type": "stream",
     "text": [
      "{\"name\": \"john\", \"age\": 30, \"married\": true, \"divorced\": false, \"children\": [\"Ann\", \"Billy\"], \"pets\": null, \"cars\": [{\"model\": \"BMW 230\", \"mpg\": 27.25}, {\"model\": \"Ford Edge\", \"mpg\": 24.1}]}\n",
      "<class 'dict'>\n"
     ]
    }
   ],
   "source": [
    "x={\n",
    "    \"name\":\"john\",\n",
    "    \"age\":30,\n",
    "    \"married\":True,\n",
    "    \"divorced\":False,\n",
    "    \"children\":(\"Ann\",\"Billy\"),\n",
    "    \"pets\":None,\n",
    "    \"cars\":[\n",
    "        {\"model\": \"BMW 230\",\"mpg\":27.25},\n",
    "        {\"model\": \"Ford Edge\",\"mpg\":24.1}\n",
    "    ]\n",
    "}\n",
    "print(json.dumps(x))\n",
    "print(type(x))"
   ]
  },
  {
   "cell_type": "code",
   "execution_count": 20,
   "metadata": {},
   "outputs": [
    {
     "name": "stdout",
     "output_type": "stream",
     "text": [
      "{\n",
      "    \"name\": \"john\",\n",
      "    \"age\": 30,\n",
      "    \"married\": true,\n",
      "    \"divorced\": false,\n",
      "    \"children\": [\n",
      "        \"Ann\",\n",
      "        \"Billy\"\n",
      "    ],\n",
      "    \"pets\": null,\n",
      "    \"cars\": [\n",
      "        {\n",
      "            \"model\": \"BMW 230\",\n",
      "            \"mpg\": 27.25\n",
      "        },\n",
      "        {\n",
      "            \"model\": \"Ford Edge\",\n",
      "            \"mpg\": 24.1\n",
      "        }\n",
      "    ]\n",
      "}\n"
     ]
    }
   ],
   "source": [
    "m=json.dumps(x,indent=4)\n",
    "print(m)"
   ]
  },
  {
   "cell_type": "code",
   "execution_count": 22,
   "metadata": {},
   "outputs": [
    {
     "name": "stdout",
     "output_type": "stream",
     "text": [
      "{\n",
      "    \"name\"$\"john\".\n",
      "    \"age\"$30.\n",
      "    \"married\"$true.\n",
      "    \"divorced\"$false.\n",
      "    \"children\"$[\n",
      "        \"Ann\".\n",
      "        \"Billy\"\n",
      "    ].\n",
      "    \"pets\"$null.\n",
      "    \"cars\"$[\n",
      "        {\n",
      "            \"model\"$\"BMW 230\".\n",
      "            \"mpg\"$27.25\n",
      "        }.\n",
      "        {\n",
      "            \"model\"$\"Ford Edge\".\n",
      "            \"mpg\"$24.1\n",
      "        }\n",
      "    ]\n",
      "}\n"
     ]
    }
   ],
   "source": [
    "n=json.dumps(x, indent=4, separators=(\".\",\"$\"))\n",
    "print(n)"
   ]
  },
  {
   "cell_type": "code",
   "execution_count": 24,
   "metadata": {},
   "outputs": [
    {
     "name": "stdout",
     "output_type": "stream",
     "text": [
      "{\"age\": 30, \"cars\": [{\"model\": \"BMW 230\", \"mpg\": 27.25}, {\"model\": \"Ford Edge\", \"mpg\": 24.1}], \"children\": [\"Ann\", \"Billy\"], \"divorced\": false, \"married\": true, \"name\": \"john\", \"pets\": null}\n",
      "<class 'str'>\n"
     ]
    }
   ],
   "source": [
    "#use the sort_keys to specify if the result should be sorted or not:\n",
    "p=json.dumps(x,sort_keys=True)\n",
    "print(p)\n",
    "print(type(p))"
   ]
  },
  {
   "cell_type": "code",
   "execution_count": null,
   "metadata": {},
   "outputs": [],
   "source": []
  }
 ],
 "metadata": {
  "kernelspec": {
   "display_name": "Python 3",
   "language": "python",
   "name": "python3"
  },
  "language_info": {
   "codemirror_mode": {
    "name": "ipython",
    "version": 3
   },
   "file_extension": ".py",
   "mimetype": "text/x-python",
   "name": "python",
   "nbconvert_exporter": "python",
   "pygments_lexer": "ipython3",
   "version": "3.7.4"
  }
 },
 "nbformat": 4,
 "nbformat_minor": 2
}
